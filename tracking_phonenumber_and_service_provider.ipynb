{
  "nbformat": 4,
  "nbformat_minor": 0,
  "metadata": {
    "colab": {
      "name": "tracking_phonenumber_and_service_provider.ipynb",
      "provenance": []
    },
    "kernelspec": {
      "name": "python3",
      "display_name": "Python 3"
    },
    "language_info": {
      "name": "python"
    }
  },
  "cells": [
    {
      "cell_type": "code",
      "metadata": {
        "colab": {
          "base_uri": "https://localhost:8080/"
        },
        "id": "38P2FK9eQG2c",
        "outputId": "2820b14b-bcdf-4508-dd28-760430c5588d"
      },
      "source": [
        "pip install phonenumbers"
      ],
      "execution_count": 1,
      "outputs": [
        {
          "output_type": "stream",
          "name": "stdout",
          "text": [
            "Collecting phonenumbers\n",
            "  Downloading phonenumbers-8.12.35-py2.py3-none-any.whl (2.6 MB)\n",
            "\u001b[K     |████████████████████████████████| 2.6 MB 6.6 MB/s \n",
            "\u001b[?25hInstalling collected packages: phonenumbers\n",
            "Successfully installed phonenumbers-8.12.35\n"
          ]
        }
      ]
    },
    {
      "cell_type": "code",
      "metadata": {
        "id": "Q5H6yNmsQRbQ"
      },
      "source": [
        "import phonenumbers"
      ],
      "execution_count": 2,
      "outputs": []
    },
    {
      "cell_type": "code",
      "metadata": {
        "id": "QwtSBKMaQb4I"
      },
      "source": [
        "number=\"+917023335477\""
      ],
      "execution_count": 3,
      "outputs": []
    },
    {
      "cell_type": "code",
      "metadata": {
        "id": "3lkaqdOxQmjt"
      },
      "source": [
        "\n",
        "from phonenumbers import geocoder"
      ],
      "execution_count": 5,
      "outputs": []
    },
    {
      "cell_type": "code",
      "metadata": {
        "id": "fmwl07s7QzDQ"
      },
      "source": [
        "ch_number=phonenumbers.parse(number,\"CH\")\n"
      ],
      "execution_count": 6,
      "outputs": []
    },
    {
      "cell_type": "code",
      "metadata": {
        "colab": {
          "base_uri": "https://localhost:8080/"
        },
        "id": "EvGZaQC0RL_K",
        "outputId": "4e0dd637-acc1-4c4e-f550-ce6335b025e7"
      },
      "source": [
        "print(geocoder.description_for_number(ch_number,\"en\"))"
      ],
      "execution_count": 7,
      "outputs": [
        {
          "output_type": "stream",
          "name": "stdout",
          "text": [
            "India\n"
          ]
        }
      ]
    },
    {
      "cell_type": "code",
      "metadata": {
        "colab": {
          "base_uri": "https://localhost:8080/"
        },
        "id": "4Bg3TL8qRYZz",
        "outputId": "1cf7c1b1-2642-4b17-aa5c-b3ee5e2dc6d0"
      },
      "source": [
        "from phonenumbers import carrier\n",
        "service_provider=phonenumbers.parse(number,\"RO\")\n",
        "print(carrier.name_for_number(service_provider,\"en\"))"
      ],
      "execution_count": 8,
      "outputs": [
        {
          "output_type": "stream",
          "name": "stdout",
          "text": [
            "Airtel\n"
          ]
        }
      ]
    },
    {
      "cell_type": "code",
      "metadata": {
        "id": "f609cppfR6JS"
      },
      "source": [
        ""
      ],
      "execution_count": null,
      "outputs": []
    }
  ]
}